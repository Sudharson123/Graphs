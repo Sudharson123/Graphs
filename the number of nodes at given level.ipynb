{
 "cells": [
  {
   "cell_type": "code",
   "execution_count": 1,
   "id": "59f69b4f",
   "metadata": {},
   "outputs": [
    {
     "name": "stdout",
     "output_type": "stream",
     "text": [
      "3\n"
     ]
    }
   ],
   "source": [
    "from collections import deque\n",
    "adj = [[] for i in range(1001)]\n",
    "def addEdge(v, w):\n",
    "    adj[v].append(w)\n",
    "    adj[w].append(v)\n",
    "def BFS(s, l):\n",
    "    V = 100\n",
    "    visited = [False] * V\n",
    "    level = [0] * V\n",
    "    for i in range(V):\n",
    "        visited[i] = False\n",
    "        level[i] = 0\n",
    "    queue = deque()\n",
    "    visited[s] = True\n",
    "    queue.append(s)\n",
    "    level[s] = 0\n",
    "    while (len(queue) > 0):\n",
    "        s = queue.popleft()\n",
    "        for i in adj[s]:\n",
    "            if (not visited[i]):\n",
    "                level[i] = level[s] + 1\n",
    "                visited[i] = True\n",
    "                queue.append(i)\n",
    "    count = 0\n",
    "    for i in range(V):\n",
    "        if (level[i] == l):\n",
    "            count += 1\n",
    "    return count\n",
    "addEdge(0, 1)\n",
    "addEdge(0, 2)\n",
    "addEdge(1, 3)\n",
    "addEdge(2, 4)\n",
    "addEdge(2, 5)\n",
    "level = 2\n",
    "print(BFS(0, level))\n",
    "\n"
   ]
  },
  {
   "cell_type": "code",
   "execution_count": null,
   "id": "9ab9611d",
   "metadata": {},
   "outputs": [],
   "source": []
  }
 ],
 "metadata": {
  "kernelspec": {
   "display_name": "Python 3 (ipykernel)",
   "language": "python",
   "name": "python3"
  },
  "language_info": {
   "codemirror_mode": {
    "name": "ipython",
    "version": 3
   },
   "file_extension": ".py",
   "mimetype": "text/x-python",
   "name": "python",
   "nbconvert_exporter": "python",
   "pygments_lexer": "ipython3",
   "version": "3.10.0"
  }
 },
 "nbformat": 4,
 "nbformat_minor": 5
}
